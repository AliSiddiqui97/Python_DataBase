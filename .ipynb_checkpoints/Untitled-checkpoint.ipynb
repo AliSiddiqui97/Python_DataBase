{
 "cells": [
  {
   "cell_type": "code",
   "execution_count": 1,
   "metadata": {},
   "outputs": [],
   "source": []
  },
  {
   "cell_type": "code",
   "execution_count": 5,
   "metadata": {
    "scrolled": false
   },
   "outputs": [
    {
     "name": "stdout",
     "output_type": "stream",
     "text": [
      "File name: oakwoodExcel.xlsx\n"
     ]
    }
   ],
   "source": [
    "import pandas as pd\n",
    "filename =input('File name: ')\n",
    "ext = filename.split('.')\n",
    "\n",
    "filename = ext[0]\n",
    "ext = ext[1]\n",
    "\n",
    "if ext in 'csv':\n",
    "    df= pd.read_csv(filename+'.'+ext)\n",
    "else:\n",
    "    df = pd.read_excel(filename+'.'+ext)\n",
    "\n",
    "\n",
    "df_type = df.dtypes\n",
    "df_col = df.columns\n",
    "\n",
    "qry_str = 'CREATE TABLE '+filename+'('\n",
    "for i in range(len(df_type)): \n",
    "    if str(df_type[i]) in \"object\":\n",
    "        qry_str = qry_str +df.columns[i]+' '+'varchar(50), '\n",
    "    elif str(df_type[i]) in \"float64\":\n",
    "        qry_str = qry_str +df.columns[i]+' '+'float,  '\n",
    "    elif str(df_type[i]) in \"int64\":\n",
    "        qry_str = qry_str +df.columns[i]+' '+'numeric(18, 0), '\n",
    "    elif str(df_type[i]) in \"datetime64[ns]\":\n",
    "        qry_str = qry_str +df.columns[i]+' '+'datetime, '\n",
    "        \n",
    "        \n",
    "qry_str = qry_str[:-2]+')'\n",
    "\n",
    "\n"
   ]
  },
  {
   "cell_type": "code",
   "execution_count": 12,
   "metadata": {
    "scrolled": true
   },
   "outputs": [
    {
     "data": {
      "text/plain": [
       "'INSERT INTO [dbo].[oakwoodExcel] VALUES '"
      ]
     },
     "execution_count": 12,
     "metadata": {},
     "output_type": "execute_result"
    }
   ],
   "source": [
    "qry_str = \"INSERT INTO [dbo].[\"+filename+\"] VALUES \"\n",
    "qry_str"
   ]
  },
  {
   "cell_type": "code",
   "execution_count": 72,
   "metadata": {},
   "outputs": [],
   "source": [
    "\n",
    "def get_row(df,num):\n",
    "    df_col = df.columns\n",
    "    msg='INSERT INTO '+filename+' VALUES('\n",
    "    for i in df_col:\n",
    "        if (str(df[i].dtypes) not in 'float64') and (str(df[i].dtypes) not in 'int64'):\n",
    "            msg += \"'\"+str(df[i][num])+\"', \"\n",
    "        else:\n",
    "            msg += str(df[i][num])+\", \"\n",
    "    msg = msg[:-2]\n",
    "    msg=msg.replace('nan','')\n",
    "    print(msg +')')\n",
    "    return (msg +')')"
   ]
  },
  {
   "cell_type": "code",
   "execution_count": 73,
   "metadata": {},
   "outputs": [
    {
     "data": {
      "text/plain": [
       "\"INSERT INTO oakwoodExcel VALUES('UNCHANGED', 'Covered Recipient Physician', , , '', 176783.0, 'STEVEN', '', 'VOLD', '', '2070 MCKENZIE RD STE A SUITE A', '', 'SPRINGDALE', 'AR', '72762', 'United States', , , 'Medical Doctor', 'Allopathic & Osteopathic Physicians|Ophthalmology', 'AR', 'TX', '', , , 'GLAUKOS CORPORATION', 100000000102, 'GLAUKOS CORPORATION', 'CA', 'United States', 11.56, '2013-09-13 00:00:00', 1, 'Cash or cash equivalent', 'Food and Beverage', '', '', '', 'No', 'No Third Party Payment', '', '', '', '', 'No', 1924047, 'No', 'Combination', '', '', '', '', , '', , , , , 'ISTENT TRABECULAR MICRO-BYPASS STENT SYSTEM', '', , , , 2013, '2020-01-17 00:00:00')\""
      ]
     },
     "execution_count": 73,
     "metadata": {},
     "output_type": "execute_result"
    }
   ],
   "source": [
    "\n",
    "get_row(df,0)"
   ]
  }
 ],
 "metadata": {
  "kernelspec": {
   "display_name": "Python 3",
   "language": "python",
   "name": "python3"
  },
  "language_info": {
   "codemirror_mode": {
    "name": "ipython",
    "version": 3
   },
   "file_extension": ".py",
   "mimetype": "text/x-python",
   "name": "python",
   "nbconvert_exporter": "python",
   "pygments_lexer": "ipython3",
   "version": "3.7.6"
  }
 },
 "nbformat": 4,
 "nbformat_minor": 4
}
